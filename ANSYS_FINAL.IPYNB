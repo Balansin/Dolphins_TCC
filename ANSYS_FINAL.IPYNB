{
 "cells": [
  {
   "cell_type": "code",
   "execution_count": 85,
   "metadata": {},
   "outputs": [
    {
     "name": "stdout",
     "output_type": "stream",
     "text": [
      "MAPDL launched successfully on port 50052\n"
     ]
    }
   ],
   "source": [
    "from ansys.mapdl.core import launch_mapdl\n",
    "import pandas as pd\n",
    "\n",
    "def launch_mapdl_on_available_port(starting_port=50052, max_attempts=10):\n",
    "    for i in range(max_attempts):\n",
    "        port = starting_port + i\n",
    "        try:\n",
    "            mapdl = launch_mapdl(port=port)\n",
    "            print(f\"MAPDL launched successfully on port {port}\")\n",
    "            return mapdl\n",
    "        except Exception as e:\n",
    "            print(f\"Failed to launch MAPDL on port {port}: {e}\")\n",
    "    raise RuntimeError(\"Could not launch MAPDL on any available port\")\n",
    "\n",
    "# Use a função para iniciar uma instância do MAPDL\n",
    "mapdl = launch_mapdl_on_available_port()"
   ]
  },
  {
   "cell_type": "code",
   "execution_count": 86,
   "metadata": {},
   "outputs": [
    {
     "data": {
      "text/plain": [
       "***** ROUTINE COMPLETED *****  CP =         0.156"
      ]
     },
     "execution_count": 86,
     "metadata": {},
     "output_type": "execute_result"
    }
   ],
   "source": [
    "mapdl.clear('NOSTART')\n",
    "mapdl.prep7()\n",
    "\n",
    "# Título\n",
    "mapdl.title('Análise de Estacas e Casca')\n",
    "\n",
    "# Definir o tipo de elemento (BEAM188) e suas propriedades\n",
    "mapdl.et(1, 'BEAM188')\n",
    "\n",
    "# Propriedades do material\n",
    "modulo_elasticidade = 0.85 * 5600 * (40 ** 0.5) * 1e6  # N/m²\n",
    "mapdl.mp('EX', 1, modulo_elasticidade)\n",
    "mapdl.mp('PRXY', 1, 0.2)  # Coeficiente de Poisson\n",
    "mapdl.mp('DENS', 1, 2500)  # Densidade\n",
    "\n",
    "# Propriedades da seção da viga\n",
    "mapdl.sectype(1, 'BEAM', 'CSOLID')\n",
    "mapdl.secoffset('CENT')\n",
    "mapdl.secdata(0.5)\n",
    "\n",
    "# Definir os pontos iniciais e finais das estacas\n",
    "x_iniciais = [0.5, 2.0, 4.0, 5.5, 0.5, 5.5, 0.5, 2.0, 4.0, 5.5]\n",
    "y_iniciais = [2.5, 2.5, 2.5, 2.5, 0.0, 0.0, -2.5, -2.5, -2.5, -2.5]\n",
    "z_iniciais = [0.0] * 10\n",
    "x_finais = [0.5, 2.0, 4.0, 5.5, 0.5, 5.5, 0.5, 2.0, 4.0, 5.5]\n",
    "y_finais = [2.5, 2.5, 2.5, 2.5, 0.0, 0.0, -2.5, -2.5, -2.5, -2.5]\n",
    "z_finais = [-20.0] * 10\n",
    "\n",
    "# Número de nós intermediários\n",
    "num_intermediate_nodes = 9\n",
    "\n",
    "# Adicionar nós\n",
    "node_id = 1\n",
    "for i in range(10):\n",
    "    x_inicial = x_iniciais[i]\n",
    "    y_inicial = y_iniciais[i]\n",
    "    z_inicial = z_iniciais[i]\n",
    "    \n",
    "    x_final = x_finais[i]\n",
    "    y_final = y_finais[i]\n",
    "    z_final = z_finais[i]\n",
    "    \n",
    "    mapdl.n(node_id, x_inicial, y_inicial, z_inicial)\n",
    "    node_id_final = node_id + num_intermediate_nodes + 1\n",
    "    mapdl.n(node_id_final, x_final, y_final, z_final)\n",
    "    \n",
    "    # Travar nós finais\n",
    "    mapdl.d(node_id_final, 'ALL', 0)\n",
    "    \n",
    "    # Preencher nós intermediários\n",
    "    mapdl.fill(node_id, node_id_final, num_intermediate_nodes)\n",
    "    \n",
    "    node_id = node_id_final + 1\n",
    "\n",
    "# Geração de elementos\n",
    "n_elemento = 1\n",
    "for i in range(10):\n",
    "    for j in range(1, num_intermediate_nodes + 2):\n",
    "        N_1 = j + (num_intermediate_nodes + 2) * (i)\n",
    "        N_2 = N_1 + 1\n",
    "        mapdl.en(n_elemento, N_1, N_2)\n",
    "        n_elemento += 1\n",
    "\n",
    "# Selecionar elementos tipo BEAM188\n",
    "mapdl.esel('S', 'TYPE', '', 1)\n",
    "\n",
    "# Contar elementos selecionados\n",
    "num_elem = mapdl.get('num_elem', 'ELEM', 0, 'COUNT')\n",
    "k = num_elem\n",
    "\n",
    "# Criar elemento de carga\n",
    "mapdl.n(1000, 3, 0, 0)\n",
    "mapdl.n(1001, 3, 0, 0.1)\n",
    "mapdl.en(k + 1, 1000, 1001)\n",
    "\n",
    "# Definir tipo de elemento SHELL181\n",
    "mapdl.et(2, 'SHELL181')\n",
    "mapdl.keyopt(2, 8, 2)  # Elastoplástico\n",
    "mapdl.keyopt(2, 3, 2)  # Precisão de tensões\n",
    "\n",
    "# Propriedades do material para SHELL181\n",
    "modulo_elasticidade_shell = 0.85 * 5600 * (20 ** 0.5) * 1e6\n",
    "mapdl.mp('EX', 2, modulo_elasticidade_shell)\n",
    "mapdl.mp('PRXY', 2, 0.2)\n",
    "mapdl.mp('DENS', 2, 2500)\n",
    "\n",
    "# Definir seção de casca\n",
    "mapdl.sectype(2, 'SHELL')\n",
    "mapdl.secdata(1.5)\n",
    "\n",
    "# Criar retângulo e malhar\n",
    "mapdl.rectng(0, 6, -3, 3)\n",
    "mapdl.esize(0.1)\n",
    "mapdl.amesh('ALL')\n",
    "\n",
    "# Selecionar elementos tipo SHELL181\n",
    "mapdl.esel('S', 'TYPE', '', 2)\n",
    "mapdl.emodif('ALL', 'SECNUM', 2)\n",
    "\n",
    "# Merge de nós\n",
    "mapdl.nsel('S', 'LOC', 'Z', 0, 1e5)\n",
    "mapdl.nummrg('NODE', 1e-5)\n",
    "mapdl.nsel('ALL')\n",
    "\n",
    "# Saída dos resultados\n",
    "mapdl.allsel('ALL')\n",
    "mapdl.nlist('ALL', '', '', 'XYZ', 'NODE', 'NODE', 'NODE')\n",
    "mapdl.elist('ALL', '', '', 0, 0)\n",
    "\n",
    "# Aplicar gravidade\n",
    "mapdl.acel(0, 0, -9.81)\n",
    "\n",
    "# Finalizar\n",
    "mapdl.finish()"
   ]
  },
  {
   "cell_type": "code",
   "execution_count": 87,
   "metadata": {},
   "outputs": [
    {
     "data": {
      "text/plain": [
       "PERFORM A STATIC ANALYSIS\n",
       "  THIS WILL BE A NEW ANALYSIS"
      ]
     },
     "execution_count": 87,
     "metadata": {},
     "output_type": "execute_result"
    }
   ],
   "source": [
    "# Entrar no modo de solução\n",
    "mapdl.slashsolu()\n",
    "mapdl.antype(0)"
   ]
  },
  {
   "cell_type": "code",
   "execution_count": 88,
   "metadata": {},
   "outputs": [
    {
     "name": "stdout",
     "output_type": "stream",
     "text": [
      "1000000.0\n",
      "0.0\n",
      "707106.7811865476\n",
      "707106.7811865476\n",
      "6.123233995736767e-11\n",
      "1000000.0\n"
     ]
    },
    {
     "data": {
      "text/plain": [
       "FINISH SOLUTION PROCESSING\n",
       "\n",
       "\n",
       " ***** ROUTINE COMPLETED *****  CP =         2.172"
      ]
     },
     "execution_count": 88,
     "metadata": {},
     "output_type": "execute_result"
    }
   ],
   "source": [
    "import math\n",
    "# Definir a força aplicada e o número de load steps\n",
    "f = 1000000  # Força de 1 milhão de N\n",
    "\n",
    "# Loop para aplicar as diferentes condições de carga\n",
    "for i in range(1, 4):\n",
    "    # Calcular o ângulo em radianos\n",
    "    Rad = (i-1)*45*math.pi/180\n",
    "\n",
    "    # Calcular as componentes da força horizontal\n",
    "    FX = math.cos(Rad)*f\n",
    "    FY = math.sin(Rad)*f\n",
    "\n",
    "    print(FX)\n",
    "    print(FY)\n",
    "\n",
    "    # Selecionar todos os elementos\n",
    "    mapdl.allsel('ALL')\n",
    "\n",
    "    # Aplicar as forças horizontais no nó 1001\n",
    "    mapdl.f(1001, 'FX', FX)\n",
    "    mapdl.f(1001, 'FY', FY)\n",
    "\n",
    "    # Resolver o modelo\n",
    "    mapdl.solve()\n",
    "\n",
    "    # Salvar os resultados da solução\n",
    "    mapdl.save(f'load_step_{i}')\n",
    "\n",
    "# Finalizar\n",
    "mapdl.finish()"
   ]
  },
  {
   "cell_type": "code",
   "execution_count": 89,
   "metadata": {},
   "outputs": [
    {
     "data": {
      "text/plain": [
       "STORE AREA     FROM ITEM=SMIS COMP=  13  FOR ALL SELECTED ELEMENTS"
      ]
     },
     "execution_count": 89,
     "metadata": {},
     "output_type": "execute_result"
    }
   ],
   "source": [
    "# Entrar no modo de pós-processamento\n",
    "mapdl.post1()\n",
    "\n",
    "\n",
    "# Definir os Load Cases para N = 3\n",
    "for i in range(1, 4):\n",
    "    mapdl.lcdef(i, i, 1)  # Define o Load Case i para o Load Step i \n",
    "\n",
    "# Carregar o primeiro Load Case\n",
    "mapdl.lcase(1)\n",
    "\n",
    "# Comparar o Load Case 1 com os demais e armazenar os resultados (máximos)\n",
    "for R in range(2, 4): \n",
    "    mapdl.lcoper('MAX', R)  # Compara o Load Case na memória com os próximos\n",
    "    mapdl.lcwrite(50 + R)   # Escreve o resultado em um arquivo\n",
    "\n",
    "# Carregar o resultado do último load case comparado\n",
    "mapdl.lcase(53)\n",
    "\n",
    "# Gerar ETABLE para momentos fletores My e Mz dos elementos selecionados (valores máximos)\n",
    "mapdl.etable('Fx_MAX', 'SMISC', 1, 'MAX')  # Força Axial máxima\n",
    "mapdl.etable('My_MAX', 'SMISC', 2, 'MAX')  # Momento fletor máximo em Y\n",
    "mapdl.etable('Mz_MAX', 'SMISC', 3, 'MAX')  # Momento fletor máximo em Z\n",
    "\n",
    "# Carregar o primeiro Load Case novamente\n",
    "mapdl.lcase(1)\n",
    "\n",
    "# Comparar o Load Case 1 com os demais para valores mínimos\n",
    "for R in range(2, 4):\n",
    "    mapdl.lcoper('MIN', R)  # Compara o Load Case na memória para valores mínimos\n",
    "    mapdl.lcwrite(60 + R)   # Escreve o resultado em um arquivo\n",
    "\n",
    "# Carregar o resultado do último load case comparado\n",
    "mapdl.lcase(63)\n",
    "\n",
    "# Gerar ETABLE para momentos fletores e força axial (valores mínimos)\n",
    "mapdl.etable('Fx_MIN', 'SMISC', 1, 'MIN')  # Força Axial mínima\n",
    "mapdl.etable('My_MIN', 'SMISC', 2, 'MIN')  # Momento fletor mínimo em Y\n",
    "mapdl.etable('Mz_MIN', 'SMISC', 3, 'MIN')  # Momento fletor mínimo em Z\n",
    "mapdl.etable('Area', 'SMISC', 13)  # Área da seção transversal\n"
   ]
  },
  {
   "cell_type": "code",
   "execution_count": 90,
   "metadata": {},
   "outputs": [
    {
     "name": "stdout",
     "output_type": "stream",
     "text": [
      "    Element     Fx_MAX    Fx_MIN    My_MAX    My_MIN    Mz_MAX    Mz_MIN\n",
      "0         1  -742963.0  346512.0  867844.0    -764.0    5760.0 -868080.0\n",
      "1        10 -1089407.0      68.0     393.0 -924455.0  921186.0   -2702.0\n",
      "2        41  -765601.0 -164603.0  873168.0    1452.0       0.0 -887732.0\n",
      "3        50 -1112045.0 -511047.0    -669.0 -926997.0  930250.0      -0.0\n",
      "4        81  -648166.0   55919.0  879543.0   -1384.0    -472.0 -876491.0\n",
      "5        90  -994610.0 -290525.0     662.0 -929856.0  925117.0     201.0\n",
      "6       121   -31738.0   55481.0    -485.0   -3594.0    4560.0     724.0\n",
      "7       130    -7944.0  195141.0     666.0    -178.0    3431.0    1971.0\n",
      "8       161    -2302.0    2550.0    2470.0   -2381.0    2884.0   -2981.0\n",
      "9       170   -54158.0   27260.0    5274.0   -1250.0   31084.0   -5286.0\n",
      "10      201    27094.0   73890.0   -2378.0  -15807.0    6993.0  -19527.0\n",
      "11      210    47235.0   75699.0    4269.0    1897.0    4517.0  -14613.0\n",
      "12      241   -23710.0   65944.0   -5259.0  -39485.0    6804.0    1916.0\n",
      "13      250   -10276.0  147180.0    7385.0   -1467.0   15377.0    7510.0\n",
      "14      281      111.0     630.0   21281.0  -25425.0    6413.0   -9591.0\n",
      "15      290   -80671.0   31040.0   21271.0  -17320.0   43882.0    4372.0\n",
      "16      321    20428.0   59963.0  -11954.0  -82740.0  -18671.0  -52260.0\n",
      "17      330    41703.0   61427.0   14384.0    6410.0   19912.0  -27707.0\n",
      "18      361    94615.0  215333.0  -13356.0 -187511.0  -74280.0 -113449.0\n",
      "19      370   -12366.0  113346.0   20109.0   -2287.0   29796.0   11005.0\n"
     ]
    }
   ],
   "source": [
    "import pandas as pd\n",
    "\n",
    "elementos_sequencia = []\n",
    "j=1\n",
    "for i in range(0,10, 1):\n",
    "    y=39*i + j\n",
    "    elementos_sequencia.append(y)\n",
    "    elementos_sequencia.append(y+num_intermediate_nodes)         # Adiciona o primeiro elemento do intervalo\n",
    "    j +=1\n",
    "\n",
    "# Dicionário para armazenar os resultados\n",
    "data = {\n",
    "    \"Element\": [],\n",
    "    \"Fx_MAX\": [],\n",
    "    \"Fx_MIN\": [],\n",
    "    \"My_MAX\": [],\n",
    "    \"My_MIN\": [],\n",
    "    \"Mz_MAX\": [],\n",
    "    \"Mz_MIN\": [],\n",
    "}\n",
    "\n",
    "# Extraindo valores com mapdl.get_value para cada elemento na sequência\n",
    "for elem in elementos_sequencia:\n",
    "    fx_max = -1*mapdl.get_value('ELEM', elem, 'ETABLE', 'Fx_MAX')\n",
    "    fx_min = -1*mapdl.get_value('ELEM', elem, 'ETABLE', 'Fx_MIN')\n",
    "    my_max = mapdl.get_value('ELEM', elem, 'ETABLE', 'My_MAX')\n",
    "    my_min = mapdl.get_value('ELEM', elem, 'ETABLE', 'My_MIN')\n",
    "    mz_max = mapdl.get_value('ELEM', elem, 'ETABLE', 'Mz_MAX')\n",
    "    mz_min = mapdl.get_value('ELEM', elem, 'ETABLE', 'Mz_MIN')\n",
    "\n",
    "    # Adicionando os resultados à tabela\n",
    "    data[\"Element\"].append(elem)\n",
    "    data[\"Fx_MAX\"].append(fx_max)\n",
    "    data[\"Fx_MIN\"].append(fx_min)\n",
    "    data[\"My_MAX\"].append(my_max)\n",
    "    data[\"My_MIN\"].append(my_min)\n",
    "    data[\"Mz_MAX\"].append(mz_max)\n",
    "    data[\"Mz_MIN\"].append(mz_min)\n",
    "# Criando o DataFrame com os resultados\n",
    "df = pd.DataFrame(data)\n",
    "df=df.round(0)\n",
    "# Exibindo a tabela\n",
    "print(df)\n",
    "\n",
    "# Opcional: Salvar a tabela como arquivo CSV\n",
    "#df.to_csv('element_results.csv', index=False)\n"
   ]
  },
  {
   "cell_type": "code",
   "execution_count": 91,
   "metadata": {},
   "outputs": [],
   "source": [
    "#Sair da port do mapdl e fechar o processo\n",
    "mapdl.exit()\n"
   ]
  }
 ],
 "metadata": {
  "kernelspec": {
   "display_name": "Python 3",
   "language": "python",
   "name": "python3"
  },
  "language_info": {
   "codemirror_mode": {
    "name": "ipython",
    "version": 3
   },
   "file_extension": ".py",
   "mimetype": "text/x-python",
   "name": "python",
   "nbconvert_exporter": "python",
   "pygments_lexer": "ipython3",
   "version": "3.9.13"
  }
 },
 "nbformat": 4,
 "nbformat_minor": 2
}
