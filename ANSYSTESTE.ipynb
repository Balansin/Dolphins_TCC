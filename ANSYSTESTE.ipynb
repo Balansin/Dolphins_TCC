{
 "cells": [
  {
   "cell_type": "code",
   "execution_count": 1,
   "metadata": {},
   "outputs": [
    {
     "name": "stdout",
     "output_type": "stream",
     "text": [
      "MAPDL launched successfully on port 50052\n"
     ]
    }
   ],
   "source": [
    "from ansys.mapdl.core import launch_mapdl\n",
    "\n",
    "def launch_mapdl_on_available_port(starting_port=50052, max_attempts=10):\n",
    "    for i in range(max_attempts):\n",
    "        port = starting_port + i\n",
    "        try:\n",
    "            mapdl = launch_mapdl(port=port)\n",
    "            print(f\"MAPDL launched successfully on port {port}\")\n",
    "            return mapdl\n",
    "        except Exception as e:\n",
    "            print(f\"Failed to launch MAPDL on port {port}: {e}\")\n",
    "    raise RuntimeError(\"Could not launch MAPDL on any available port\")\n",
    "\n",
    "# Use a função para iniciar uma instância do MAPDL\n",
    "mapdl = launch_mapdl_on_available_port()"
   ]
  },
  {
   "cell_type": "code",
   "execution_count": 2,
   "metadata": {},
   "outputs": [
    {
     "name": "stdout",
     "output_type": "stream",
     "text": [
      "Initial node count: 3931.0\n",
      "Final node count: 3921.0\n",
      "Node merging was successful.\n"
     ]
    },
    {
     "data": {
      "application/vnd.jupyter.widget-view+json": {
       "model_id": "0e05b65c927e4dabaa86881fdc08c044",
       "version_major": 2,
       "version_minor": 0
      },
      "text/plain": [
       "Widget(value='<iframe src=\"http://localhost:57686/index.html?ui=P_0x1d7746ace50_0&reconnect=auto\" class=\"pyvis…"
      ]
     },
     "metadata": {},
     "output_type": "display_data"
    },
    {
     "data": {
      "application/vnd.jupyter.widget-view+json": {
       "model_id": "9103fc0146f14dddb3f9da780acab647",
       "version_major": 2,
       "version_minor": 0
      },
      "text/plain": [
       "Widget(value='<iframe src=\"http://localhost:57686/index.html?ui=P_0x1d700133490_1&reconnect=auto\" class=\"pyvis…"
      ]
     },
     "metadata": {},
     "output_type": "display_data"
    },
    {
     "ename": "MapdlExitedError",
     "evalue": "MAPDL server connection terminated",
     "output_type": "error",
     "traceback": [
      "\u001b[1;31m---------------------------------------------------------------------------\u001b[0m",
      "\u001b[1;31mMapdlExitedError\u001b[0m                          Traceback (most recent call last)",
      "Cell \u001b[1;32mIn[2], line 111\u001b[0m\n\u001b[0;32m    109\u001b[0m \u001b[38;5;66;03m# Resolver o problema\u001b[39;00m\n\u001b[0;32m    110\u001b[0m mapdl\u001b[38;5;241m.\u001b[39mantype(\u001b[38;5;124m\"\u001b[39m\u001b[38;5;124mstatic\u001b[39m\u001b[38;5;124m\"\u001b[39m)\n\u001b[1;32m--> 111\u001b[0m \u001b[43mmapdl\u001b[49m\u001b[38;5;241;43m.\u001b[39;49m\u001b[43msolve\u001b[49m\u001b[43m(\u001b[49m\u001b[43m)\u001b[49m\n\u001b[0;32m    112\u001b[0m \u001b[38;5;28mprint\u001b[39m(mapdl\u001b[38;5;241m.\u001b[39msolve())\n\u001b[0;32m    113\u001b[0m mapdl\u001b[38;5;241m.\u001b[39mfinish()\n",
      "File \u001b[1;32mc:\\Users\\infra\\AppData\\Local\\Programs\\Python\\Python39\\lib\\site-packages\\ansys\\mapdl\\core\\_commands\\solution\\analysis_options.py:3477\u001b[0m, in \u001b[0;36mAnalysisOptions.solve\u001b[1;34m(self, action, **kwargs)\u001b[0m\n\u001b[0;32m   3457\u001b[0m \u001b[38;5;250m\u001b[39m\u001b[38;5;124;03m\"\"\"Starts a solution.\u001b[39;00m\n\u001b[0;32m   3458\u001b[0m \n\u001b[0;32m   3459\u001b[0m \u001b[38;5;124;03mAPDL Command: SOLVE\u001b[39;00m\n\u001b[1;32m   (...)\u001b[0m\n\u001b[0;32m   3474\u001b[0m \u001b[38;5;124;03min the first phase of a linear perturbation analysis.\u001b[39;00m\n\u001b[0;32m   3475\u001b[0m \u001b[38;5;124;03m\"\"\"\u001b[39;00m\n\u001b[0;32m   3476\u001b[0m command \u001b[38;5;241m=\u001b[39m \u001b[38;5;124mf\u001b[39m\u001b[38;5;124m\"\u001b[39m\u001b[38;5;124mSOLVE,\u001b[39m\u001b[38;5;132;01m{\u001b[39;00maction\u001b[38;5;132;01m}\u001b[39;00m\u001b[38;5;124m\"\u001b[39m\n\u001b[1;32m-> 3477\u001b[0m \u001b[38;5;28;01mreturn\u001b[39;00m \u001b[38;5;28mself\u001b[39m\u001b[38;5;241m.\u001b[39mrun(command, \u001b[38;5;241m*\u001b[39m\u001b[38;5;241m*\u001b[39mkwargs)\n",
      "File \u001b[1;32mc:\\Users\\infra\\AppData\\Local\\Programs\\Python\\Python39\\lib\\site-packages\\ansys\\mapdl\\core\\mapdl_core.py:2212\u001b[0m, in \u001b[0;36m_MapdlCore.run\u001b[1;34m(self, command, write_to_log, mute, **kwargs)\u001b[0m\n\u001b[0;32m   2209\u001b[0m         \u001b[38;5;28mself\u001b[39m\u001b[38;5;241m.\u001b[39m_check_parameter_name(param_name)\n\u001b[0;32m   2211\u001b[0m short_cmd \u001b[38;5;241m=\u001b[39m parse_to_short_cmd(command)\n\u001b[1;32m-> 2212\u001b[0m text \u001b[38;5;241m=\u001b[39m \u001b[38;5;28;43mself\u001b[39;49m\u001b[38;5;241;43m.\u001b[39;49m\u001b[43m_run\u001b[49m\u001b[43m(\u001b[49m\u001b[43mcommand\u001b[49m\u001b[43m,\u001b[49m\u001b[43m \u001b[49m\u001b[43mverbose\u001b[49m\u001b[38;5;241;43m=\u001b[39;49m\u001b[43mverbose\u001b[49m\u001b[43m,\u001b[49m\u001b[43m \u001b[49m\u001b[43mmute\u001b[49m\u001b[38;5;241;43m=\u001b[39;49m\u001b[43mmute\u001b[49m\u001b[43m)\u001b[49m\n\u001b[0;32m   2214\u001b[0m \u001b[38;5;28;01mif\u001b[39;00m (\n\u001b[0;32m   2215\u001b[0m     \u001b[38;5;124m\"\u001b[39m\u001b[38;5;124mDisplay device has not yet been specified with the /SHOW command\u001b[39m\u001b[38;5;124m\"\u001b[39m \u001b[38;5;129;01min\u001b[39;00m text\n\u001b[0;32m   2216\u001b[0m     \u001b[38;5;129;01mand\u001b[39;00m short_cmd \u001b[38;5;129;01min\u001b[39;00m PLOT_COMMANDS\n\u001b[0;32m   2217\u001b[0m ):\n\u001b[0;32m   2218\u001b[0m     \u001b[38;5;66;03m# Reissuing the command to make sure we get output.\u001b[39;00m\n\u001b[0;32m   2219\u001b[0m     \u001b[38;5;28mself\u001b[39m\u001b[38;5;241m.\u001b[39mshow(\u001b[38;5;28mself\u001b[39m\u001b[38;5;241m.\u001b[39mdefault_file_type_for_plots)\n",
      "File \u001b[1;32mc:\\Users\\infra\\AppData\\Local\\Programs\\Python\\Python39\\lib\\site-packages\\ansys\\mapdl\\core\\mapdl_grpc.py:896\u001b[0m, in \u001b[0;36mMapdlGrpc._run\u001b[1;34m(self, cmd, verbose, mute)\u001b[0m\n\u001b[0;32m    894\u001b[0m     response \u001b[38;5;241m=\u001b[39m \u001b[38;5;28mself\u001b[39m\u001b[38;5;241m.\u001b[39m_send_command_stream(cmd, \u001b[38;5;28;01mTrue\u001b[39;00m)\n\u001b[0;32m    895\u001b[0m \u001b[38;5;28;01melse\u001b[39;00m:\n\u001b[1;32m--> 896\u001b[0m     response \u001b[38;5;241m=\u001b[39m \u001b[38;5;28;43mself\u001b[39;49m\u001b[38;5;241;43m.\u001b[39;49m\u001b[43m_send_command\u001b[49m\u001b[43m(\u001b[49m\u001b[43mcmd\u001b[49m\u001b[43m,\u001b[49m\u001b[43m \u001b[49m\u001b[43mmute\u001b[49m\u001b[38;5;241;43m=\u001b[39;49m\u001b[43mmute\u001b[49m\u001b[43m)\u001b[49m\n\u001b[0;32m    897\u001b[0m \u001b[38;5;28mself\u001b[39m\u001b[38;5;241m.\u001b[39m_busy \u001b[38;5;241m=\u001b[39m \u001b[38;5;28;01mFalse\u001b[39;00m\n\u001b[0;32m    899\u001b[0m \u001b[38;5;28;01mreturn\u001b[39;00m response\u001b[38;5;241m.\u001b[39mstrip()\n",
      "File \u001b[1;32mc:\\Users\\infra\\AppData\\Local\\Programs\\Python\\Python39\\lib\\site-packages\\ansys\\mapdl\\core\\errors.py:319\u001b[0m, in \u001b[0;36mprotect_grpc.<locals>.wrapper\u001b[1;34m(*args, **kwargs)\u001b[0m\n\u001b[0;32m    317\u001b[0m     \u001b[38;5;66;03m# Must close unfinished processes\u001b[39;00m\n\u001b[0;32m    318\u001b[0m     mapdl\u001b[38;5;241m.\u001b[39m_close_process()\n\u001b[1;32m--> 319\u001b[0m     \u001b[38;5;28;01mraise\u001b[39;00m MapdlExitedError(\u001b[38;5;124m\"\u001b[39m\u001b[38;5;124mMAPDL server connection terminated\u001b[39m\u001b[38;5;124m\"\u001b[39m) \u001b[38;5;28;01mfrom\u001b[39;00m \u001b[38;5;28;01mNone\u001b[39;00m\n\u001b[0;32m    321\u001b[0m \u001b[38;5;28;01mif\u001b[39;00m threading\u001b[38;5;241m.\u001b[39mcurrent_thread()\u001b[38;5;241m.\u001b[39m\u001b[38;5;18m__class__\u001b[39m\u001b[38;5;241m.\u001b[39m\u001b[38;5;18m__name__\u001b[39m \u001b[38;5;241m==\u001b[39m \u001b[38;5;124m\"\u001b[39m\u001b[38;5;124m_MainThread\u001b[39m\u001b[38;5;124m\"\u001b[39m:\n\u001b[0;32m    322\u001b[0m     received_interrupt \u001b[38;5;241m=\u001b[39m \u001b[38;5;28mbool\u001b[39m(SIGINT_TRACKER)\n",
      "\u001b[1;31mMapdlExitedError\u001b[0m: MAPDL server connection terminated"
     ]
    }
   ],
   "source": [
    "# Limpar qualquer dado existente\n",
    "mapdl.clear()\n",
    "\n",
    "# Entrar no pré-processador\n",
    "mapdl.prep7()\n",
    "\n",
    "# Definir o tipo de elemento (BEAM188) e suas propriedades\n",
    "mapdl.et(1, \"BEAM188\")\n",
    "\n",
    "# Propriedades do material\n",
    "mapdl.mp(\"EX\", 1, 2e7)  # Módulo de elasticidade em N/cm2\n",
    "mapdl.mp(\"PRXY\", 1, 0.27)  # Coeficiente de Poisson\n",
    "\n",
    "# Propriedades da seção da viga em centímetros\n",
    "sec_num = 1\n",
    "mapdl.sectype(1, \"BEAM\", \"CSOLID\")\n",
    "mapdl.secoffset(\"CENT\")\n",
    "mapdl.secdata(0.5)\n",
    "\n",
    "# Definir os pontos iniciais e finais das estacas\n",
    "pontos_iniciais = [\n",
    "    [0, 3, 0],\n",
    "    [2, 3, 0],\n",
    "    [4, 3, 0],\n",
    "    [6, 3, 0],\n",
    "    [3, 0.0, 0],\n",
    "    [4, 0.0, 0],\n",
    "    [0, -3, 0],\n",
    "    [2, -3, 0],\n",
    "    [4, -3, 0],\n",
    "    [6, -3, 0]\n",
    "]\n",
    "\n",
    "pontos_finais = [\n",
    "    [0, 3, -20],\n",
    "    [2, 3, -20],\n",
    "    [4, 3, -20],\n",
    "    [6, 3, -20],\n",
    "    [3, 0.0, -20],\n",
    "    [4, 0.0, -20],\n",
    "    [0, -3, -20],\n",
    "    [2, -3, -20],\n",
    "    [4, -3, -20],\n",
    "    [6, -3, -20]\n",
    "]\n",
    "\n",
    "# Definir um deslocamento para evitar conflito com os keypoints criados automaticamente\n",
    "offset_keypoints = 0\n",
    "\n",
    "# Adicionar os keypoints iniciais e finais\n",
    "for i, (p_inicial, p_final) in enumerate(zip(pontos_iniciais, pontos_finais), start=1):\n",
    "    mapdl.k(i + offset_keypoints, *p_inicial)\n",
    "    mapdl.k(i + len(pontos_finais) + offset_keypoints, *p_final)\n",
    "    # Criar a linha (elemento de viga) entre os keypoints iniciais e finais\n",
    "    mapdl.l(i + offset_keypoints, i + len(pontos_finais) + offset_keypoints)\n",
    "\n",
    "# Malhar as linhas\n",
    "mapdl.type(1)\n",
    "mapdl.esize(1)\n",
    "mapdl.lesize(\"ALL\")\n",
    "mapdl.lmesh(\"ALL\")\n",
    "\n",
    "# Definição e malha da casca\n",
    "mapdl.et(2, \"SHELL181\")\n",
    "mapdl.mp(\"EX\", 2, 2e5)  # Módulo de elasticidade\n",
    "mapdl.mp(\"PRXY\", 2, 0.3)  # Coeficiente de Poisson\n",
    "mapdl.rectng(0, 6, -3, 3)  # Cria um retângulo\n",
    "mapdl.sectype(2, \"SHELL\")  # Define o tipo de seção\n",
    "mapdl.secdata(0.1)  # Define a espessura da seção\n",
    "mapdl.esize(0.1)  # A densidade de elementos\n",
    "mapdl.amesh(\"all\")\n",
    "\n",
    "# Contagem inicial de nós\n",
    "initial_node_count = mapdl.get_value(entity=\"NODE\", entnum=0, item1=\"COUNT\")\n",
    "print(f\"Initial node count: {initial_node_count}\")\n",
    "\n",
    "# Merge all\n",
    "mapdl.nsel(\"s\", \"loc\", \"z\", 0, 1e5)\n",
    "mapdl.nummrg(\"NODE\", 1e-5)\n",
    "mapdl.nsel(\"ALL\")\n",
    "\n",
    "# Contagem final de nós\n",
    "final_node_count = mapdl.get_value(entity=\"NODE\", entnum=0, item1=\"COUNT\")\n",
    "print(f\"Final node count: {final_node_count}\")\n",
    "\n",
    "# Verificação do resultado da mesclagem\n",
    "if initial_node_count > final_node_count:\n",
    "    print(\"Node merging was successful.\")\n",
    "else:\n",
    "    print(\"Node merging did not reduce the node count.\")\n",
    "\n",
    "# Visualizar a malha\n",
    "mapdl.eplot()\n",
    "\n",
    "mapdl.allsel()\n",
    "mapdl.solution()\n",
    "\n",
    "# Definir as condições de contorno\n",
    "mapdl.nsel(\"s\", \"loc\", \"z\", -20.001, -19.999)\n",
    "mapdl.d(\"all\", \"all\")\n",
    "\n",
    "# Plot das condições de contorno\n",
    "mapdl.allsel()\n",
    "mapdl.eplot(plot_bc=True, show_node_numbering=False)\n",
    "\n",
    "# Definir a gravidade\n",
    "mapdl.acel(0, 0, 9.81)\n",
    "\n",
    "# Resolver o problema\n",
    "mapdl.antype(\"static\")\n",
    "mapdl.solve()\n",
    "print(mapdl.solve())\n",
    "mapdl.finish()\n",
    "mapdl.exit()\n"
   ]
  },
  {
   "cell_type": "code",
   "execution_count": null,
   "metadata": {},
   "outputs": [
    {
     "ename": "MapdlExitedError",
     "evalue": "MAPDL server connection terminated",
     "output_type": "error",
     "traceback": [
      "\u001b[1;31m---------------------------------------------------------------------------\u001b[0m",
      "\u001b[1;31mMapdlExitedError\u001b[0m                          Traceback (most recent call last)",
      "Cell \u001b[1;32mIn[52], line 2\u001b[0m\n\u001b[0;32m      1\u001b[0m \u001b[38;5;28;01mfrom\u001b[39;00m \u001b[38;5;21;01mansys\u001b[39;00m\u001b[38;5;21;01m.\u001b[39;00m\u001b[38;5;21;01mmapdl\u001b[39;00m\u001b[38;5;21;01m.\u001b[39;00m\u001b[38;5;21;01mcore\u001b[39;00m \u001b[38;5;28;01mimport\u001b[39;00m launch_mapdl\n\u001b[1;32m----> 2\u001b[0m \u001b[43mmapdl\u001b[49m\u001b[38;5;241;43m.\u001b[39;49m\u001b[43mfinish\u001b[49m\u001b[43m(\u001b[49m\u001b[43m)\u001b[49m\n\u001b[0;32m      3\u001b[0m mapdl\u001b[38;5;241m.\u001b[39mexit()\n",
      "File \u001b[1;32mc:\\Users\\infra\\AppData\\Local\\Programs\\Python\\Python39\\lib\\site-packages\\ansys\\mapdl\\core\\_commands\\session\\processor_entry.py:118\u001b[0m, in \u001b[0;36mProcessorEntry.finish\u001b[1;34m(self, **kwargs)\u001b[0m\n\u001b[0;32m     92\u001b[0m \u001b[38;5;250m\u001b[39m\u001b[38;5;124;03m\"\"\"Exits normally from a processor.\u001b[39;00m\n\u001b[0;32m     93\u001b[0m \n\u001b[0;32m     94\u001b[0m \u001b[38;5;124;03mAPDL Command: FINISH\u001b[39;00m\n\u001b[1;32m   (...)\u001b[0m\n\u001b[0;32m    115\u001b[0m \u001b[38;5;124;03mthe Begin level.\u001b[39;00m\n\u001b[0;32m    116\u001b[0m \u001b[38;5;124;03m\"\"\"\u001b[39;00m\n\u001b[0;32m    117\u001b[0m command \u001b[38;5;241m=\u001b[39m \u001b[38;5;124m\"\u001b[39m\u001b[38;5;124mFINISH,\u001b[39m\u001b[38;5;124m\"\u001b[39m\n\u001b[1;32m--> 118\u001b[0m \u001b[38;5;28;01mreturn\u001b[39;00m \u001b[38;5;28mself\u001b[39m\u001b[38;5;241m.\u001b[39mrun(command, \u001b[38;5;241m*\u001b[39m\u001b[38;5;241m*\u001b[39mkwargs)\n",
      "File \u001b[1;32mc:\\Users\\infra\\AppData\\Local\\Programs\\Python\\Python39\\lib\\site-packages\\ansys\\mapdl\\core\\mapdl_core.py:2212\u001b[0m, in \u001b[0;36m_MapdlCore.run\u001b[1;34m(self, command, write_to_log, mute, **kwargs)\u001b[0m\n\u001b[0;32m   2209\u001b[0m         \u001b[38;5;28mself\u001b[39m\u001b[38;5;241m.\u001b[39m_check_parameter_name(param_name)\n\u001b[0;32m   2211\u001b[0m short_cmd \u001b[38;5;241m=\u001b[39m parse_to_short_cmd(command)\n\u001b[1;32m-> 2212\u001b[0m text \u001b[38;5;241m=\u001b[39m \u001b[38;5;28;43mself\u001b[39;49m\u001b[38;5;241;43m.\u001b[39;49m\u001b[43m_run\u001b[49m\u001b[43m(\u001b[49m\u001b[43mcommand\u001b[49m\u001b[43m,\u001b[49m\u001b[43m \u001b[49m\u001b[43mverbose\u001b[49m\u001b[38;5;241;43m=\u001b[39;49m\u001b[43mverbose\u001b[49m\u001b[43m,\u001b[49m\u001b[43m \u001b[49m\u001b[43mmute\u001b[49m\u001b[38;5;241;43m=\u001b[39;49m\u001b[43mmute\u001b[49m\u001b[43m)\u001b[49m\n\u001b[0;32m   2214\u001b[0m \u001b[38;5;28;01mif\u001b[39;00m (\n\u001b[0;32m   2215\u001b[0m     \u001b[38;5;124m\"\u001b[39m\u001b[38;5;124mDisplay device has not yet been specified with the /SHOW command\u001b[39m\u001b[38;5;124m\"\u001b[39m \u001b[38;5;129;01min\u001b[39;00m text\n\u001b[0;32m   2216\u001b[0m     \u001b[38;5;129;01mand\u001b[39;00m short_cmd \u001b[38;5;129;01min\u001b[39;00m PLOT_COMMANDS\n\u001b[0;32m   2217\u001b[0m ):\n\u001b[0;32m   2218\u001b[0m     \u001b[38;5;66;03m# Reissuing the command to make sure we get output.\u001b[39;00m\n\u001b[0;32m   2219\u001b[0m     \u001b[38;5;28mself\u001b[39m\u001b[38;5;241m.\u001b[39mshow(\u001b[38;5;28mself\u001b[39m\u001b[38;5;241m.\u001b[39mdefault_file_type_for_plots)\n",
      "File \u001b[1;32mc:\\Users\\infra\\AppData\\Local\\Programs\\Python\\Python39\\lib\\site-packages\\ansys\\mapdl\\core\\mapdl_grpc.py:896\u001b[0m, in \u001b[0;36mMapdlGrpc._run\u001b[1;34m(self, cmd, verbose, mute)\u001b[0m\n\u001b[0;32m    894\u001b[0m     response \u001b[38;5;241m=\u001b[39m \u001b[38;5;28mself\u001b[39m\u001b[38;5;241m.\u001b[39m_send_command_stream(cmd, \u001b[38;5;28;01mTrue\u001b[39;00m)\n\u001b[0;32m    895\u001b[0m \u001b[38;5;28;01melse\u001b[39;00m:\n\u001b[1;32m--> 896\u001b[0m     response \u001b[38;5;241m=\u001b[39m \u001b[38;5;28;43mself\u001b[39;49m\u001b[38;5;241;43m.\u001b[39;49m\u001b[43m_send_command\u001b[49m\u001b[43m(\u001b[49m\u001b[43mcmd\u001b[49m\u001b[43m,\u001b[49m\u001b[43m \u001b[49m\u001b[43mmute\u001b[49m\u001b[38;5;241;43m=\u001b[39;49m\u001b[43mmute\u001b[49m\u001b[43m)\u001b[49m\n\u001b[0;32m    897\u001b[0m \u001b[38;5;28mself\u001b[39m\u001b[38;5;241m.\u001b[39m_busy \u001b[38;5;241m=\u001b[39m \u001b[38;5;28;01mFalse\u001b[39;00m\n\u001b[0;32m    899\u001b[0m \u001b[38;5;28;01mreturn\u001b[39;00m response\u001b[38;5;241m.\u001b[39mstrip()\n",
      "File \u001b[1;32mc:\\Users\\infra\\AppData\\Local\\Programs\\Python\\Python39\\lib\\site-packages\\ansys\\mapdl\\core\\errors.py:319\u001b[0m, in \u001b[0;36mprotect_grpc.<locals>.wrapper\u001b[1;34m(*args, **kwargs)\u001b[0m\n\u001b[0;32m    317\u001b[0m     \u001b[38;5;66;03m# Must close unfinished processes\u001b[39;00m\n\u001b[0;32m    318\u001b[0m     mapdl\u001b[38;5;241m.\u001b[39m_close_process()\n\u001b[1;32m--> 319\u001b[0m     \u001b[38;5;28;01mraise\u001b[39;00m MapdlExitedError(\u001b[38;5;124m\"\u001b[39m\u001b[38;5;124mMAPDL server connection terminated\u001b[39m\u001b[38;5;124m\"\u001b[39m) \u001b[38;5;28;01mfrom\u001b[39;00m \u001b[38;5;28;01mNone\u001b[39;00m\n\u001b[0;32m    321\u001b[0m \u001b[38;5;28;01mif\u001b[39;00m threading\u001b[38;5;241m.\u001b[39mcurrent_thread()\u001b[38;5;241m.\u001b[39m\u001b[38;5;18m__class__\u001b[39m\u001b[38;5;241m.\u001b[39m\u001b[38;5;18m__name__\u001b[39m \u001b[38;5;241m==\u001b[39m \u001b[38;5;124m\"\u001b[39m\u001b[38;5;124m_MainThread\u001b[39m\u001b[38;5;124m\"\u001b[39m:\n\u001b[0;32m    322\u001b[0m     received_interrupt \u001b[38;5;241m=\u001b[39m \u001b[38;5;28mbool\u001b[39m(SIGINT_TRACKER)\n",
      "\u001b[1;31mMapdlExitedError\u001b[0m: MAPDL server connection terminated"
     ]
    }
   ],
   "source": [
    "from ansys.mapdl.core import launch_mapdl\n",
    "mapdl.finish()\n",
    "mapdl.exit()"
   ]
  }
 ],
 "metadata": {
  "kernelspec": {
   "display_name": "Python 3",
   "language": "python",
   "name": "python3"
  },
  "language_info": {
   "codemirror_mode": {
    "name": "ipython",
    "version": 3
   },
   "file_extension": ".py",
   "mimetype": "text/x-python",
   "name": "python",
   "nbconvert_exporter": "python",
   "pygments_lexer": "ipython3",
   "version": "3.9.13"
  }
 },
 "nbformat": 4,
 "nbformat_minor": 2
}
